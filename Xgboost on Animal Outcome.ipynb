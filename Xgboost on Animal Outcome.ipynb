{
 "cells": [
  {
   "cell_type": "markdown",
   "metadata": {},
   "source": [
    "Here I take the data cleaning from the gbm ftw and see if I can get better results."
   ]
  },
  {
   "cell_type": "code",
   "execution_count": 32,
   "metadata": {
    "collapsed": false
   },
   "outputs": [
    {
     "name": "stderr",
     "output_type": "stream",
     "text": [
      "Loading required package: survival\n",
      "Loading required package: lattice\n",
      "Loading required package: splines\n",
      "Loading required package: parallel\n",
      "Loaded gbm 2.1.1\n"
     ]
    }
   ],
   "source": [
    "library(ggplot2)\n",
    "library(dplyr)\n",
    "library(xgboost)\n",
    "library(lubridate)\n",
    "library(ranger)\n",
    "library(gbm)"
   ]
  },
  {
   "cell_type": "code",
   "execution_count": 7,
   "metadata": {
    "collapsed": false
   },
   "outputs": [],
   "source": [
    "train <- read.csv(\"train.csv\")"
   ]
  },
  {
   "cell_type": "code",
   "execution_count": 18,
   "metadata": {
    "collapsed": false
   },
   "outputs": [
    {
     "name": "stdout",
     "output_type": "stream",
     "text": [
      "Observations: 26,729\n",
      "Variables: 31\n",
      "$ DateTime                        (dbl) 1392250920, 1381686240, 1422728880,...\n",
      "$ OutcomeType                     (fctr) Return_to_owner, Euthanasia, Adopt...\n",
      "$ AnimalType                      (fctr) Dog, Cat, Dog, Cat, Dog, Dog, Cat,...\n",
      "$ SexuponOutcome                  (fctr) Neutered Male, Spayed Female, Neut...\n",
      "$ AgeuponOutcome                  (dbl) 10000, 10000, 20000, 30, 20000, 100...\n",
      "$ Hour                            (int) 18, 12, 12, 19, 12, 13, 13, 17, 17,...\n",
      "$ Weekday                         (dbl) 4, 1, 7, 6, 6, 6, 7, 5, 3, 7, 5, 2,...\n",
      "$ NameLen                         (int) 7, 5, 6, 0, 0, 4, 5, 0, 4, 0, 0, 0,...\n",
      "$ NameWeirdness                   (int) 5, 16, 2, 7691, 7691, 11, 10, 7691,...\n",
      "$ col.Black                       (lgl) FALSE, FALSE, FALSE, FALSE, FALSE, ...\n",
      "$ col.White                       (lgl) TRUE, FALSE, TRUE, FALSE, FALSE, FA...\n",
      "$ col.Brown                       (lgl) TRUE, FALSE, FALSE, FALSE, FALSE, F...\n",
      "$ col.Blue                        (lgl) FALSE, FALSE, TRUE, TRUE, FALSE, FA...\n",
      "$ col.Orange                      (lgl) FALSE, FALSE, FALSE, FALSE, FALSE, ...\n",
      "$ col.Calico                      (lgl) FALSE, FALSE, FALSE, FALSE, FALSE, ...\n",
      "$ col.Chocolate                   (lgl) FALSE, FALSE, FALSE, FALSE, FALSE, ...\n",
      "$ col.Gold                        (lgl) FALSE, FALSE, FALSE, FALSE, FALSE, ...\n",
      "$ col.Red                         (lgl) FALSE, FALSE, FALSE, FALSE, FALSE, ...\n",
      "$ col.Tan                         (lgl) FALSE, FALSE, FALSE, FALSE, TRUE, T...\n",
      "$ col.Tortie                      (lgl) FALSE, FALSE, FALSE, FALSE, FALSE, ...\n",
      "$ col.Yellow                      (lgl) FALSE, FALSE, FALSE, FALSE, FALSE, ...\n",
      "$ breed.Domestic.Shorthair.Mix    (lgl) FALSE, TRUE, FALSE, TRUE, FALSE, FA...\n",
      "$ breed.Pit.Bull.Mix              (lgl) FALSE, FALSE, TRUE, FALSE, FALSE, F...\n",
      "$ breed.Chihuahua.Shorthair.Mix   (lgl) FALSE, FALSE, FALSE, FALSE, FALSE, ...\n",
      "$ breed.Labrador.Retriever.Mix    (lgl) FALSE, FALSE, FALSE, FALSE, FALSE, ...\n",
      "$ breed.Domestic.Medium.Hair.Mix  (lgl) FALSE, FALSE, FALSE, FALSE, FALSE, ...\n",
      "$ breed.German.Shepherd.Mix       (lgl) FALSE, FALSE, FALSE, FALSE, FALSE, ...\n",
      "$ breed.Domestic.Longhair.Mix     (lgl) FALSE, FALSE, FALSE, FALSE, FALSE, ...\n",
      "$ breed.Siamese.Mix               (lgl) FALSE, FALSE, FALSE, FALSE, FALSE, ...\n",
      "$ breed.Australian.Cattle.Dog.Mix (lgl) FALSE, FALSE, FALSE, FALSE, FALSE, ...\n",
      "$ breed.X.Other.                  (lgl) FALSE, FALSE, FALSE, FALSE, FALSE, ...\n"
     ]
    }
   ],
   "source": [
    "2+2"
   ]
  },
  {
   "cell_type": "markdown",
   "metadata": {},
   "source": [
    "Data cleaning and feature creation from: https://www.kaggle.com/jamesdlawrence/shelter-animal-outcomes/gbm-ftw/run/189411"
   ]
  },
  {
   "cell_type": "code",
   "execution_count": 11,
   "metadata": {
    "collapsed": false
   },
   "outputs": [],
   "source": [
    "popularBreeds <- names(summary(train$Breed,maxsum=10L))\n",
    "trainNameSummary <- summary(train$Name,maxsum=Inf)\n",
    "\n",
    "clean <- function(x){\n",
    "\tx$Hour <- hour(x$DateTime)\n",
    "\tx$Weekday <- wday(x$DateTime)\n",
    "\tx$DateTime <- as.numeric(as.POSIXct(x$DateTime))\n",
    "\tx$OutcomeSubtype <- NULL\n",
    "\tx$NameLen <- nchar(as.character(x$Name))\n",
    "\tx$NameWeirdness <- trainNameSummary[match(x$Name,names(trainNameSummary))]\n",
    "\tx$Name <- NULL\n",
    "\tx$AgeuponOutcome <- gsub(\" years?\",\"0000\",x$AgeuponOutcome)\n",
    "\tx$AgeuponOutcome <- gsub(\" months?\",\"00\",x$AgeuponOutcome)\n",
    "\tx$AgeuponOutcome <- gsub(\" weeks?\",\"0\",x$AgeuponOutcome)\n",
    "\tx$AgeuponOutcome <- gsub(\" days?\",\"\",x$AgeuponOutcome)\n",
    "\tx$AgeuponOutcome <- as.numeric(paste0(\"0\",x$AgeuponOutcome))\n",
    "\tx$AnimalID <- NULL\n",
    "\tfor(i in c(\"Black\",\"White\",\"Brown\",\"Blue\",\"Orange\",\"Calico\",\"Chocolate\",\"Gold\",\"Red\",\"Tan\",\"Tortie\",\"Yellow\")) x[[paste0(\"col.\",i)]] <- grepl(i,x$Color)\n",
    "\tx$Color <- NULL\n",
    "\tfor(i in popularBreeds) x[[paste0(\"breed.\",make.names(i))]] <- x$Breed == i\n",
    "\tx$Breed <- NULL\n",
    "\tx\n",
    "}\n",
    "\n",
    "train <- clean(train)"
   ]
  },
  {
   "cell_type": "code",
   "execution_count": 12,
   "metadata": {
    "collapsed": false
   },
   "outputs": [
    {
     "data": {
      "text/html": [
       "<table>\n",
       "<thead><tr><th></th><th scope=col>DateTime</th><th scope=col>OutcomeType</th><th scope=col>AnimalType</th><th scope=col>SexuponOutcome</th><th scope=col>AgeuponOutcome</th><th scope=col>Hour</th><th scope=col>Weekday</th><th scope=col>NameLen</th><th scope=col>NameWeirdness</th><th scope=col>col.Black</th><th scope=col>ellip.h</th><th scope=col>breed.Domestic.Shorthair.Mix</th><th scope=col>breed.Pit.Bull.Mix</th><th scope=col>breed.Chihuahua.Shorthair.Mix</th><th scope=col>breed.Labrador.Retriever.Mix</th><th scope=col>breed.Domestic.Medium.Hair.Mix</th><th scope=col>breed.German.Shepherd.Mix</th><th scope=col>breed.Domestic.Longhair.Mix</th><th scope=col>breed.Siamese.Mix</th><th scope=col>breed.Australian.Cattle.Dog.Mix</th><th scope=col>breed.X.Other.</th></tr></thead>\n",
       "<tbody>\n",
       "\t<tr><th scope=row>1</th><td>1392250920</td><td>Return_to_owner</td><td>Dog</td><td>Neutered Male</td><td>10000</td><td>18</td><td>4</td><td>7</td><td>5</td><td>FALSE</td><td>⋯</td><td>FALSE</td><td>FALSE</td><td>FALSE</td><td>FALSE</td><td>FALSE</td><td>FALSE</td><td>FALSE</td><td>FALSE</td><td>FALSE</td><td>FALSE</td></tr>\n",
       "\t<tr><th scope=row>2</th><td>1381686240</td><td>Euthanasia</td><td>Cat</td><td>Spayed Female</td><td>10000</td><td>12</td><td>1</td><td>5</td><td>16</td><td>FALSE</td><td>⋯</td><td>TRUE</td><td>FALSE</td><td>FALSE</td><td>FALSE</td><td>FALSE</td><td>FALSE</td><td>FALSE</td><td>FALSE</td><td>FALSE</td><td>FALSE</td></tr>\n",
       "\t<tr><th scope=row>3</th><td>1422728880</td><td>Adoption</td><td>Dog</td><td>Neutered Male</td><td>20000</td><td>12</td><td>7</td><td>6</td><td>2</td><td>FALSE</td><td>⋯</td><td>FALSE</td><td>TRUE</td><td>FALSE</td><td>FALSE</td><td>FALSE</td><td>FALSE</td><td>FALSE</td><td>FALSE</td><td>FALSE</td><td>FALSE</td></tr>\n",
       "\t<tr><th scope=row>4</th><td>1405123740</td><td>Transfer</td><td>Cat</td><td>Intact Male</td><td>30</td><td>19</td><td>6</td><td>0</td><td>7691</td><td>FALSE</td><td>⋯</td><td>TRUE</td><td>FALSE</td><td>FALSE</td><td>FALSE</td><td>FALSE</td><td>FALSE</td><td>FALSE</td><td>FALSE</td><td>FALSE</td><td>FALSE</td></tr>\n",
       "\t<tr><th scope=row>5</th><td>1384541520</td><td>Transfer</td><td>Dog</td><td>Neutered Male</td><td>20000</td><td>12</td><td>6</td><td>0</td><td>7691</td><td>FALSE</td><td>⋯</td><td>FALSE</td><td>FALSE</td><td>FALSE</td><td>FALSE</td><td>FALSE</td><td>FALSE</td><td>FALSE</td><td>FALSE</td><td>FALSE</td><td>FALSE</td></tr>\n",
       "\t<tr><th scope=row>6</th><td>1398449040</td><td>Transfer</td><td>Dog</td><td>Intact Female</td><td>100</td><td>13</td><td>6</td><td>4</td><td>11</td><td>TRUE</td><td>⋯</td><td>FALSE</td><td>FALSE</td><td>FALSE</td><td>FALSE</td><td>FALSE</td><td>FALSE</td><td>FALSE</td><td>FALSE</td><td>FALSE</td><td>FALSE</td></tr>\n",
       "</tbody>\n",
       "</table>\n"
      ],
      "text/latex": [
       "\\begin{tabular}{r|lllllllllllllllllllllllllllllll}\n",
       "  & DateTime & OutcomeType & AnimalType & SexuponOutcome & AgeuponOutcome & Hour & Weekday & NameLen & NameWeirdness & col.Black & ellip.h & breed.Domestic.Shorthair.Mix & breed.Pit.Bull.Mix & breed.Chihuahua.Shorthair.Mix & breed.Labrador.Retriever.Mix & breed.Domestic.Medium.Hair.Mix & breed.German.Shepherd.Mix & breed.Domestic.Longhair.Mix & breed.Siamese.Mix & breed.Australian.Cattle.Dog.Mix & breed.X.Other.\\\\\n",
       "\\hline\n",
       "\t1 & 1392250920 & Return_to_owner & Dog & Neutered Male & 10000 & 18 & 4 & 7 & 5 & FALSE & ⋯ & FALSE & FALSE & FALSE & FALSE & FALSE & FALSE & FALSE & FALSE & FALSE & FALSE\\\\\n",
       "\t2 & 1381686240 & Euthanasia & Cat & Spayed Female & 10000 & 12 & 1 & 5 & 16 & FALSE & ⋯ & TRUE & FALSE & FALSE & FALSE & FALSE & FALSE & FALSE & FALSE & FALSE & FALSE\\\\\n",
       "\t3 & 1422728880 & Adoption & Dog & Neutered Male & 20000 & 12 & 7 & 6 & 2 & FALSE & ⋯ & FALSE & TRUE & FALSE & FALSE & FALSE & FALSE & FALSE & FALSE & FALSE & FALSE\\\\\n",
       "\t4 & 1405123740 & Transfer & Cat & Intact Male & 30 & 19 & 6 & 0 & 7691 & FALSE & ⋯ & TRUE & FALSE & FALSE & FALSE & FALSE & FALSE & FALSE & FALSE & FALSE & FALSE\\\\\n",
       "\t5 & 1384541520 & Transfer & Dog & Neutered Male & 20000 & 12 & 6 & 0 & 7691 & FALSE & ⋯ & FALSE & FALSE & FALSE & FALSE & FALSE & FALSE & FALSE & FALSE & FALSE & FALSE\\\\\n",
       "\t6 & 1398449040 & Transfer & Dog & Intact Female & 100 & 13 & 6 & 4 & 11 & TRUE & ⋯ & FALSE & FALSE & FALSE & FALSE & FALSE & FALSE & FALSE & FALSE & FALSE & FALSE\\\\\n",
       "\\end{tabular}\n"
      ],
      "text/plain": [
       "    DateTime     OutcomeType AnimalType SexuponOutcome AgeuponOutcome Hour\n",
       "1 1392250920 Return_to_owner        Dog  Neutered Male          10000   18\n",
       "2 1381686240      Euthanasia        Cat  Spayed Female          10000   12\n",
       "3 1422728880        Adoption        Dog  Neutered Male          20000   12\n",
       "4 1405123740        Transfer        Cat    Intact Male             30   19\n",
       "5 1384541520        Transfer        Dog  Neutered Male          20000   12\n",
       "6 1398449040        Transfer        Dog  Intact Female            100   13\n",
       "  Weekday NameLen NameWeirdness col.Black col.White col.Brown col.Blue\n",
       "1       4       7             5     FALSE      TRUE      TRUE    FALSE\n",
       "2       1       5            16     FALSE     FALSE     FALSE    FALSE\n",
       "3       7       6             2     FALSE      TRUE     FALSE     TRUE\n",
       "4       6       0          7691     FALSE     FALSE     FALSE     TRUE\n",
       "5       6       0          7691     FALSE     FALSE     FALSE    FALSE\n",
       "6       6       4            11      TRUE     FALSE     FALSE    FALSE\n",
       "  col.Orange col.Calico col.Chocolate col.Gold col.Red col.Tan col.Tortie\n",
       "1      FALSE      FALSE         FALSE    FALSE   FALSE   FALSE      FALSE\n",
       "2      FALSE      FALSE         FALSE    FALSE   FALSE   FALSE      FALSE\n",
       "3      FALSE      FALSE         FALSE    FALSE   FALSE   FALSE      FALSE\n",
       "4      FALSE      FALSE         FALSE    FALSE   FALSE   FALSE      FALSE\n",
       "5      FALSE      FALSE         FALSE    FALSE   FALSE    TRUE      FALSE\n",
       "6      FALSE      FALSE         FALSE    FALSE   FALSE    TRUE      FALSE\n",
       "  col.Yellow breed.Domestic.Shorthair.Mix breed.Pit.Bull.Mix\n",
       "1      FALSE                        FALSE              FALSE\n",
       "2      FALSE                         TRUE              FALSE\n",
       "3      FALSE                        FALSE               TRUE\n",
       "4      FALSE                         TRUE              FALSE\n",
       "5      FALSE                        FALSE              FALSE\n",
       "6      FALSE                        FALSE              FALSE\n",
       "  breed.Chihuahua.Shorthair.Mix breed.Labrador.Retriever.Mix\n",
       "1                         FALSE                        FALSE\n",
       "2                         FALSE                        FALSE\n",
       "3                         FALSE                        FALSE\n",
       "4                         FALSE                        FALSE\n",
       "5                         FALSE                        FALSE\n",
       "6                         FALSE                        FALSE\n",
       "  breed.Domestic.Medium.Hair.Mix breed.German.Shepherd.Mix\n",
       "1                          FALSE                     FALSE\n",
       "2                          FALSE                     FALSE\n",
       "3                          FALSE                     FALSE\n",
       "4                          FALSE                     FALSE\n",
       "5                          FALSE                     FALSE\n",
       "6                          FALSE                     FALSE\n",
       "  breed.Domestic.Longhair.Mix breed.Siamese.Mix breed.Australian.Cattle.Dog.Mix\n",
       "1                       FALSE             FALSE                           FALSE\n",
       "2                       FALSE             FALSE                           FALSE\n",
       "3                       FALSE             FALSE                           FALSE\n",
       "4                       FALSE             FALSE                           FALSE\n",
       "5                       FALSE             FALSE                           FALSE\n",
       "6                       FALSE             FALSE                           FALSE\n",
       "  breed.X.Other.\n",
       "1          FALSE\n",
       "2          FALSE\n",
       "3          FALSE\n",
       "4          FALSE\n",
       "5          FALSE\n",
       "6          FALSE"
      ]
     },
     "execution_count": 12,
     "metadata": {},
     "output_type": "execute_result"
    }
   ],
   "source": [
    "head(train)"
   ]
  },
  {
   "cell_type": "code",
   "execution_count": 14,
   "metadata": {
    "collapsed": false
   },
   "outputs": [
    {
     "name": "stdout",
     "output_type": "stream",
     "text": [
      "Growing trees.. Progress: 90%. Estimated remaining time: 3 seconds.\n"
     ]
    }
   ],
   "source": [
    "model_ranger <- ranger(OutcomeType ~., data = train)"
   ]
  },
  {
   "cell_type": "code",
   "execution_count": 15,
   "metadata": {
    "collapsed": false
   },
   "outputs": [
    {
     "data": {
      "text/plain": [
       "Ranger result\n",
       "\n",
       "Call:\n",
       " ranger(OutcomeType ~ ., data = train) \n",
       "\n",
       "Type:                             Classification \n",
       "Number of trees:                  500 \n",
       "Sample size:                      26729 \n",
       "Number of independent variables:  30 \n",
       "Mtry:                             5 \n",
       "Target node size:                 1 \n",
       "Variable importance mode:         none \n",
       "OOB prediction error:             31.84 % "
      ]
     },
     "execution_count": 15,
     "metadata": {},
     "output_type": "execute_result"
    }
   ],
   "source": [
    "model_ranger"
   ]
  },
  {
   "cell_type": "markdown",
   "metadata": {},
   "source": [
    "Now let's do probability trees. Notice the decrease in OOB error, roughly around 4%!"
   ]
  },
  {
   "cell_type": "code",
   "execution_count": 16,
   "metadata": {
    "collapsed": false
   },
   "outputs": [
    {
     "data": {
      "text/plain": [
       "Ranger result\n",
       "\n",
       "Call:\n",
       " ranger(OutcomeType ~ ., data = train, probability = TRUE, num.trees = 200) \n",
       "\n",
       "Type:                             Probability estimation \n",
       "Number of trees:                  200 \n",
       "Sample size:                      26729 \n",
       "Number of independent variables:  30 \n",
       "Mtry:                             5 \n",
       "Target node size:                 10 \n",
       "Variable importance mode:         none \n",
       "OOB prediction error:             0.2750909 "
      ]
     },
     "execution_count": 16,
     "metadata": {},
     "output_type": "execute_result"
    }
   ],
   "source": [
    "ranger(OutcomeType ~., data = train, probability = TRUE, num.trees = 200)"
   ]
  },
  {
   "cell_type": "code",
   "execution_count": 40,
   "metadata": {
    "collapsed": false
   },
   "outputs": [
    {
     "name": "stdout",
     "output_type": "stream",
     "text": [
      "Growing trees.. Progress: 58%. Estimated remaining time: 22 seconds.\n"
     ]
    }
   ],
   "source": [
    "model_ranger <- ranger(OutcomeType ~., data = train, probability = TRUE, num.trees = 300, mtry = 15)"
   ]
  },
  {
   "cell_type": "code",
   "execution_count": 39,
   "metadata": {
    "collapsed": false
   },
   "outputs": [
    {
     "name": "stdout",
     "output_type": "stream",
     "text": [
      "Growing trees.. Progress: 36%. Estimated remaining time: 55 seconds.\n",
      "Growing trees.. Progress: 79%. Estimated remaining time: 16 seconds.\n"
     ]
    },
    {
     "data": {
      "text/plain": [
       "Ranger result\n",
       "\n",
       "Call:\n",
       " ranger(OutcomeType ~ ., data = train, probability = TRUE, num.trees = 300,      mtry = 20) \n",
       "\n",
       "Type:                             Probability estimation \n",
       "Number of trees:                  300 \n",
       "Sample size:                      26729 \n",
       "Number of independent variables:  30 \n",
       "Mtry:                             20 \n",
       "Target node size:                 10 \n",
       "Variable importance mode:         none \n",
       "OOB prediction error:             0.2607829 "
      ]
     },
     "execution_count": 39,
     "metadata": {},
     "output_type": "execute_result"
    }
   ],
   "source": [
    "ranger(OutcomeType ~., data = train, probability = TRUE, num.trees = 300, mtry = 20)"
   ]
  },
  {
   "cell_type": "markdown",
   "metadata": {},
   "source": [
    "Let's try Xgboost:"
   ]
  },
  {
   "cell_type": "code",
   "execution_count": 26,
   "metadata": {
    "collapsed": true
   },
   "outputs": [],
   "source": [
    "design_matrix <- model.matrix(OutcomeType ~ ., data = train)\n",
    "y <- as.numeric(train$OutcomeType) - 1"
   ]
  },
  {
   "cell_type": "code",
   "execution_count": 35,
   "metadata": {
    "collapsed": true
   },
   "outputs": [
    {
     "name": "stdout",
     "output_type": "stream",
     "text": [
      "[0]\ttrain-merror:0.331700+0.004846\ttest-merror:0.341763+0.011423\n",
      "[1]\ttrain-merror:0.329988+0.003686\ttest-merror:0.340267+0.010884\n",
      "[2]\ttrain-merror:0.329474+0.003910\ttest-merror:0.339593+0.012015\n",
      "[3]\ttrain-merror:0.329184+0.004262\ttest-merror:0.340154+0.011413\n",
      "[4]\ttrain-merror:0.327884+0.003644\ttest-merror:0.338845+0.012661\n",
      "[5]\ttrain-merror:0.326153+0.003370\ttest-merror:0.337124+0.013177\n",
      "[6]\ttrain-merror:0.326238+0.003071\ttest-merror:0.336937+0.013377\n",
      "[7]\ttrain-merror:0.326181+0.002801\ttest-merror:0.337161+0.013796\n",
      "[8]\ttrain-merror:0.326153+0.002719\ttest-merror:0.337274+0.014072\n",
      "[9]\ttrain-merror:0.325817+0.002686\ttest-merror:0.336750+0.013714\n",
      "[10]\ttrain-merror:0.325910+0.002679\ttest-merror:0.336600+0.014045\n",
      "[11]\ttrain-merror:0.325405+0.002936\ttest-merror:0.335964+0.014203\n",
      "[12]\ttrain-merror:0.325124+0.002728\ttest-merror:0.335889+0.014515\n",
      "[13]\ttrain-merror:0.324657+0.002897\ttest-merror:0.335403+0.015119\n",
      "[14]\ttrain-merror:0.323862+0.004170\ttest-merror:0.334842+0.014610\n",
      "[15]\ttrain-merror:0.323385+0.004315\ttest-merror:0.334355+0.013704\n",
      "[16]\ttrain-merror:0.322646+0.005185\ttest-merror:0.333719+0.012918\n",
      "[17]\ttrain-merror:0.321542+0.004826\ttest-merror:0.332485+0.012300\n",
      "[18]\ttrain-merror:0.320672+0.005396\ttest-merror:0.332336+0.012823\n",
      "[19]\ttrain-merror:0.319063+0.004120\ttest-merror:0.330502+0.013864\n",
      "[20]\ttrain-merror:0.318268+0.004302\ttest-merror:0.329567+0.013982\n",
      "[21]\ttrain-merror:0.318100+0.004216\ttest-merror:0.329454+0.014680\n",
      "[22]\ttrain-merror:0.316547+0.004499\ttest-merror:0.327285+0.013564\n",
      "[23]\ttrain-merror:0.315397+0.003584\ttest-merror:0.326499+0.013521\n",
      "[24]\ttrain-merror:0.314499+0.002989\ttest-merror:0.325189+0.013819\n",
      "[25]\ttrain-merror:0.313798+0.003607\ttest-merror:0.324703+0.012826\n",
      "[26]\ttrain-merror:0.313545+0.003429\ttest-merror:0.324516+0.012491\n",
      "[27]\ttrain-merror:0.313433+0.003527\ttest-merror:0.324254+0.012637\n",
      "[28]\ttrain-merror:0.313246+0.003464\ttest-merror:0.324478+0.012458\n",
      "[29]\ttrain-merror:0.312909+0.003317\ttest-merror:0.324628+0.012524\n",
      "[30]\ttrain-merror:0.312320+0.003674\ttest-merror:0.323693+0.012344\n",
      "[31]\ttrain-merror:0.311899+0.003923\ttest-merror:0.323244+0.011954\n",
      "[32]\ttrain-merror:0.311703+0.004004\ttest-merror:0.323206+0.011861\n",
      "[33]\ttrain-merror:0.311600+0.003908\ttest-merror:0.322645+0.011888\n",
      "[34]\ttrain-merror:0.311478+0.003920\ttest-merror:0.322571+0.011887\n",
      "[35]\ttrain-merror:0.311170+0.003928\ttest-merror:0.322271+0.011752\n",
      "[36]\ttrain-merror:0.310318+0.003697\ttest-merror:0.321860+0.012083\n",
      "[37]\ttrain-merror:0.309785+0.003197\ttest-merror:0.321747+0.011813\n",
      "[38]\ttrain-merror:0.309673+0.003182\ttest-merror:0.321486+0.011828\n",
      "[39]\ttrain-merror:0.309364+0.003186\ttest-merror:0.321561+0.011778\n",
      "[40]\ttrain-merror:0.308878+0.003225\ttest-merror:0.321111+0.012050\n",
      "[41]\ttrain-merror:0.308681+0.003122\ttest-merror:0.320476+0.012048\n",
      "[42]\ttrain-merror:0.308410+0.002939\ttest-merror:0.320363+0.012335\n",
      "[43]\ttrain-merror:0.307559+0.002154\ttest-merror:0.319765+0.012790\n",
      "[44]\ttrain-merror:0.307335+0.002034\ttest-merror:0.319652+0.012874\n",
      "[45]\ttrain-merror:0.307035+0.001947\ttest-merror:0.319316+0.012326\n",
      "[46]\ttrain-merror:0.306774+0.001822\ttest-merror:0.319054+0.012318\n",
      "[47]\ttrain-merror:0.306633+0.001943\ttest-merror:0.318904+0.012438\n",
      "[48]\ttrain-merror:0.306399+0.002060\ttest-merror:0.319166+0.012284\n",
      "[49]\ttrain-merror:0.306231+0.002091\ttest-merror:0.319166+0.012392\n",
      "[50]\ttrain-merror:0.305932+0.002335\ttest-merror:0.318680+0.012423\n",
      "[51]\ttrain-merror:0.305427+0.002581\ttest-merror:0.317595+0.011814\n",
      "[52]\ttrain-merror:0.305183+0.002619\ttest-merror:0.317782+0.012258\n",
      "[53]\ttrain-merror:0.304856+0.002804\ttest-merror:0.317108+0.011799\n",
      "[54]\ttrain-merror:0.304519+0.002763\ttest-merror:0.316921+0.011206\n",
      "[55]\ttrain-merror:0.304342+0.002881\ttest-merror:0.316323+0.010869\n",
      "[56]\ttrain-merror:0.303977+0.002902\ttest-merror:0.316285+0.010802\n",
      "[57]\ttrain-merror:0.303696+0.003083\ttest-merror:0.316285+0.011057\n",
      "[58]\ttrain-merror:0.303378+0.003053\ttest-merror:0.315986+0.010966\n",
      "[59]\ttrain-merror:0.302948+0.003288\ttest-merror:0.315986+0.010901\n",
      "[60]\ttrain-merror:0.302565+0.003335\ttest-merror:0.315762+0.011136\n",
      "[61]\ttrain-merror:0.302022+0.003328\ttest-merror:0.315462+0.011154\n",
      "[62]\ttrain-merror:0.301648+0.003309\ttest-merror:0.315425+0.011192\n",
      "[63]\ttrain-merror:0.301433+0.003270\ttest-merror:0.315425+0.011034\n",
      "[64]\ttrain-merror:0.301171+0.003162\ttest-merror:0.315126+0.010881\n",
      "[65]\ttrain-merror:0.300881+0.003088\ttest-merror:0.315126+0.011114\n",
      "[66]\ttrain-merror:0.300591+0.003003\ttest-merror:0.314976+0.011333\n",
      "[67]\ttrain-merror:0.300189+0.003117\ttest-merror:0.314864+0.011177\n",
      "[68]\ttrain-merror:0.299862+0.003190\ttest-merror:0.314265+0.011404\n",
      "[69]\ttrain-merror:0.299506+0.003147\ttest-merror:0.314452+0.010676\n",
      "[70]\ttrain-merror:0.299319+0.003238\ttest-merror:0.314377+0.010565\n",
      "[71]\ttrain-merror:0.299057+0.003205\ttest-merror:0.314265+0.010637\n",
      "[72]\ttrain-merror:0.298720+0.003111\ttest-merror:0.314452+0.010549\n",
      "[73]\ttrain-merror:0.298393+0.003159\ttest-merror:0.314003+0.010626\n",
      "[74]\ttrain-merror:0.297954+0.003006\ttest-merror:0.314003+0.010568\n",
      "[75]\ttrain-merror:0.297598+0.002990\ttest-merror:0.314265+0.010426\n",
      "[76]\ttrain-merror:0.297392+0.002811\ttest-merror:0.314041+0.010526\n",
      "[77]\ttrain-merror:0.297056+0.002997\ttest-merror:0.314265+0.010769\n",
      "[78]\ttrain-merror:0.296588+0.002950\ttest-merror:0.313966+0.011220\n",
      "[79]\ttrain-merror:0.296149+0.003039\ttest-merror:0.313928+0.011491\n",
      "[80]\ttrain-merror:0.295774+0.002862\ttest-merror:0.314078+0.011468\n",
      "[81]\ttrain-merror:0.295438+0.002600\ttest-merror:0.313928+0.011150\n",
      "[82]\ttrain-merror:0.294886+0.002542\ttest-merror:0.313629+0.011051\n",
      "[83]\ttrain-merror:0.294558+0.002492\ttest-merror:0.313741+0.010973\n",
      "[84]\ttrain-merror:0.294203+0.002624\ttest-merror:0.313629+0.010872\n",
      "[85]\ttrain-merror:0.294044+0.002501\ttest-merror:0.313554+0.010565\n",
      "[86]\ttrain-merror:0.294091+0.002415\ttest-merror:0.313180+0.010427\n",
      "[87]\ttrain-merror:0.293876+0.002516\ttest-merror:0.313255+0.010468\n",
      "[88]\ttrain-merror:0.293370+0.002453\ttest-merror:0.313367+0.010487\n",
      "[89]\ttrain-merror:0.293268+0.002502\ttest-merror:0.313442+0.010374\n",
      "[90]\ttrain-merror:0.293034+0.002341\ttest-merror:0.313479+0.010557\n",
      "[91]\ttrain-merror:0.292856+0.002404\ttest-merror:0.312993+0.010372\n",
      "[92]\ttrain-merror:0.292529+0.002413\ttest-merror:0.313068+0.010721\n",
      "[93]\ttrain-merror:0.292304+0.002445\ttest-merror:0.313031+0.010834\n",
      "[94]\ttrain-merror:0.291996+0.002511\ttest-merror:0.312956+0.010722\n",
      "[95]\ttrain-merror:0.291874+0.002531\ttest-merror:0.312956+0.011225\n",
      "[96]\ttrain-merror:0.291771+0.002511\ttest-merror:0.312881+0.011361\n",
      "[97]\ttrain-merror:0.291556+0.002483\ttest-merror:0.312694+0.011360\n",
      "[98]\ttrain-merror:0.291219+0.002492\ttest-merror:0.312731+0.011179\n",
      "[99]\ttrain-merror:0.291060+0.002613\ttest-merror:0.312395+0.010972\n",
      "[100]\ttrain-merror:0.290611+0.002570\ttest-merror:0.312245+0.011212\n",
      "[101]\ttrain-merror:0.290434+0.002643\ttest-merror:0.312132+0.010892\n",
      "[102]\ttrain-merror:0.290078+0.002637\ttest-merror:0.312245+0.011013\n",
      "[103]\ttrain-merror:0.289723+0.002766\ttest-merror:0.312170+0.011021\n",
      "[104]\ttrain-merror:0.289480+0.002769\ttest-merror:0.312170+0.011359\n",
      "[105]\ttrain-merror:0.289367+0.002685\ttest-merror:0.312170+0.011062\n",
      "[106]\ttrain-merror:0.289134+0.002510\ttest-merror:0.311983+0.010872\n",
      "[107]\ttrain-merror:0.288872+0.002455\ttest-merror:0.311684+0.010604\n",
      "[108]\ttrain-merror:0.288451+0.002585\ttest-merror:0.311721+0.010667\n",
      "[109]\ttrain-merror:0.288339+0.002650\ttest-merror:0.311496+0.010504\n",
      "[110]\ttrain-merror:0.288105+0.002692\ttest-merror:0.311721+0.010663\n",
      "[111]\ttrain-merror:0.287936+0.002757\ttest-merror:0.311609+0.010584\n",
      "[112]\ttrain-merror:0.287684+0.002665\ttest-merror:0.311534+0.010359\n",
      "[113]\ttrain-merror:0.287553+0.002685\ttest-merror:0.311384+0.010849\n",
      "[114]\ttrain-merror:0.287329+0.002622\ttest-merror:0.311496+0.010922\n",
      "[115]\ttrain-merror:0.287020+0.002737\ttest-merror:0.311197+0.011049\n",
      "[116]\ttrain-merror:0.286805+0.002564\ttest-merror:0.311309+0.010839\n",
      "[117]\ttrain-merror:0.286674+0.002620\ttest-merror:0.311272+0.011036\n",
      "[118]\ttrain-merror:0.286365+0.002668\ttest-merror:0.311085+0.010672\n",
      "[119]\ttrain-merror:0.286038+0.002649\ttest-merror:0.311085+0.010734\n",
      "[120]\ttrain-merror:0.285701+0.002716\ttest-merror:0.311422+0.010428\n",
      "[121]\ttrain-merror:0.285476+0.002679\ttest-merror:0.311272+0.010404\n",
      "[122]\ttrain-merror:0.285215+0.002807\ttest-merror:0.311234+0.010695\n",
      "[123]\ttrain-merror:0.284934+0.002886\ttest-merror:0.311197+0.010685\n",
      "[124]\ttrain-merror:0.284784+0.002890\ttest-merror:0.311309+0.010881\n",
      "[125]\ttrain-merror:0.284625+0.002829\ttest-merror:0.311122+0.010651\n",
      "[126]\ttrain-merror:0.284289+0.002881\ttest-merror:0.310935+0.010728\n",
      "[127]\ttrain-merror:0.284017+0.002918\ttest-merror:0.311235+0.010536\n",
      "[128]\ttrain-merror:0.283746+0.003167\ttest-merror:0.311122+0.010619\n",
      "[129]\ttrain-merror:0.283372+0.003235\ttest-merror:0.311047+0.010732\n",
      "[130]\ttrain-merror:0.283213+0.003151\ttest-merror:0.311048+0.010970\n",
      "[131]\ttrain-merror:0.282858+0.003014\ttest-merror:0.311048+0.011272\n",
      "[132]\ttrain-merror:0.282558+0.003053\ttest-merror:0.310823+0.011204\n",
      "[133]\ttrain-merror:0.282371+0.003079\ttest-merror:0.310711+0.010858\n",
      "[134]\ttrain-merror:0.282306+0.002971\ttest-merror:0.310748+0.010909\n",
      "[135]\ttrain-merror:0.282016+0.003126\ttest-merror:0.310823+0.011110\n",
      "[136]\ttrain-merror:0.281931+0.002953\ttest-merror:0.310823+0.010646\n",
      "[137]\ttrain-merror:0.281726+0.002983\ttest-merror:0.310935+0.010891\n",
      "[138]\ttrain-merror:0.281492+0.003027\ttest-merror:0.310860+0.010711\n",
      "[139]\ttrain-merror:0.281277+0.003141\ttest-merror:0.310636+0.010971\n",
      "[140]\ttrain-merror:0.280996+0.003288\ttest-merror:0.310748+0.011003\n",
      "[141]\ttrain-merror:0.280865+0.003332\ttest-merror:0.310935+0.011322\n",
      "[142]\ttrain-merror:0.280650+0.003132\ttest-merror:0.310674+0.011074\n",
      "[143]\ttrain-merror:0.280360+0.003288\ttest-merror:0.310673+0.010887\n",
      "[144]\ttrain-merror:0.279958+0.003241\ttest-merror:0.310636+0.010842\n",
      "[145]\ttrain-merror:0.279696+0.003294\ttest-merror:0.310486+0.010986\n",
      "[146]\ttrain-merror:0.279322+0.003392\ttest-merror:0.310599+0.010744\n",
      "[147]\ttrain-merror:0.279275+0.003464\ttest-merror:0.310524+0.010731\n",
      "[148]\ttrain-merror:0.278789+0.003453\ttest-merror:0.310636+0.010865\n",
      "[149]\ttrain-merror:0.278583+0.003504\ttest-merror:0.310561+0.010830\n",
      "[150]\ttrain-merror:0.278265+0.003604\ttest-merror:0.310374+0.010708\n",
      "[151]\ttrain-merror:0.277994+0.003454\ttest-merror:0.310374+0.010813\n",
      "[152]\ttrain-merror:0.277779+0.003435\ttest-merror:0.310561+0.011137\n",
      "[153]\ttrain-merror:0.277451+0.003515\ttest-merror:0.310599+0.011391\n",
      "[154]\ttrain-merror:0.277227+0.003609\ttest-merror:0.310860+0.011287\n",
      "[155]\ttrain-merror:0.276984+0.003639\ttest-merror:0.310561+0.011375\n",
      "[156]\ttrain-merror:0.276759+0.003753\ttest-merror:0.310748+0.011100\n",
      "[157]\ttrain-merror:0.276385+0.003721\ttest-merror:0.310561+0.011095\n",
      "[158]\ttrain-merror:0.276207+0.003752\ttest-merror:0.310823+0.011011\n",
      "[159]\ttrain-merror:0.275824+0.003778\ttest-merror:0.310598+0.011182\n",
      "[160]\ttrain-merror:0.275450+0.003744\ttest-merror:0.310823+0.011157\n",
      "[161]\ttrain-merror:0.275207+0.003790\ttest-merror:0.310636+0.011185\n",
      "[162]\ttrain-merror:0.275001+0.003734\ttest-merror:0.310411+0.011019\n",
      "[163]\ttrain-merror:0.274533+0.003537\ttest-merror:0.310112+0.011192\n",
      "[164]\ttrain-merror:0.274375+0.003515\ttest-merror:0.310075+0.011152\n",
      "[165]\ttrain-merror:0.274187+0.003495\ttest-merror:0.309925+0.010859\n",
      "[166]\ttrain-merror:0.273888+0.003342\ttest-merror:0.309963+0.010819\n",
      "[167]\ttrain-merror:0.273607+0.003444\ttest-merror:0.309776+0.011089\n",
      "[168]\ttrain-merror:0.273243+0.003541\ttest-merror:0.309701+0.010868\n",
      "[169]\ttrain-merror:0.273112+0.003611\ttest-merror:0.309701+0.010854\n",
      "[170]\ttrain-merror:0.272896+0.003548\ttest-merror:0.309851+0.011092\n",
      "[171]\ttrain-merror:0.272606+0.003338\ttest-merror:0.309738+0.010935\n",
      "[172]\ttrain-merror:0.272326+0.003194\ttest-merror:0.309589+0.010821\n",
      "[173]\ttrain-merror:0.272214+0.003163\ttest-merror:0.309289+0.010745\n",
      "[174]\ttrain-merror:0.272064+0.003234\ttest-merror:0.309514+0.010694\n",
      "[175]\ttrain-merror:0.271756+0.003398\ttest-merror:0.309738+0.010736\n",
      "[176]\ttrain-merror:0.271662+0.003368\ttest-merror:0.309626+0.010530\n",
      "[177]\ttrain-merror:0.271484+0.003277\ttest-merror:0.309252+0.010583\n",
      "[178]\ttrain-merror:0.271344+0.003333\ttest-merror:0.309177+0.010355\n",
      "[179]\ttrain-merror:0.271325+0.003625\ttest-merror:0.309177+0.010509\n",
      "[180]\ttrain-merror:0.270951+0.003485\ttest-merror:0.309140+0.010299\n",
      "[181]\ttrain-merror:0.270680+0.003564\ttest-merror:0.309065+0.010461\n",
      "[182]\ttrain-merror:0.270390+0.003523\ttest-merror:0.308803+0.010559\n",
      "[183]\ttrain-merror:0.270184+0.003688\ttest-merror:0.308728+0.010445\n",
      "[184]\ttrain-merror:0.269866+0.003556\ttest-merror:0.308616+0.010546\n",
      "[185]\ttrain-merror:0.269698+0.003592\ttest-merror:0.308578+0.010324\n",
      "[186]\ttrain-merror:0.269501+0.003647\ttest-merror:0.308466+0.010361\n",
      "[187]\ttrain-merror:0.269221+0.003604\ttest-merror:0.308504+0.010439\n",
      "[188]\ttrain-merror:0.268931+0.003514\ttest-merror:0.308578+0.010581\n",
      "[189]\ttrain-merror:0.268472+0.003427\ttest-merror:0.308691+0.010481\n",
      "[190]\ttrain-merror:0.268342+0.003347\ttest-merror:0.308541+0.010499\n",
      "[191]\ttrain-merror:0.268061+0.003338\ttest-merror:0.308578+0.010635\n",
      "[192]\ttrain-merror:0.267808+0.003345\ttest-merror:0.308728+0.010808\n",
      "[193]\ttrain-merror:0.267565+0.003191\ttest-merror:0.308803+0.010693\n",
      "[194]\ttrain-merror:0.267341+0.003225\ttest-merror:0.308578+0.010836\n",
      "[195]\ttrain-merror:0.266976+0.003325\ttest-merror:0.308541+0.010563\n",
      "[196]\ttrain-merror:0.266882+0.003305\ttest-merror:0.308466+0.010706\n",
      "[197]\ttrain-merror:0.266770+0.003305\ttest-merror:0.308354+0.010797\n",
      "[198]\ttrain-merror:0.266546+0.003272\ttest-merror:0.308466+0.010634\n",
      "[199]\ttrain-merror:0.266190+0.003249\ttest-merror:0.308354+0.010845\n",
      "[200]\ttrain-merror:0.265984+0.003156\ttest-merror:0.308204+0.010927\n",
      "[201]\ttrain-merror:0.265704+0.003116\ttest-merror:0.308054+0.010654\n",
      "[202]\ttrain-merror:0.265582+0.003239\ttest-merror:0.307905+0.011048\n",
      "[203]\ttrain-merror:0.265330+0.003245\ttest-merror:0.308017+0.010832\n",
      "[204]\ttrain-merror:0.265152+0.003366\ttest-merror:0.307980+0.011035\n",
      "[205]\ttrain-merror:0.265030+0.003339\ttest-merror:0.307867+0.011202\n",
      "[206]\ttrain-merror:0.264834+0.003314\ttest-merror:0.308092+0.011157\n",
      "[207]\ttrain-merror:0.264619+0.003389\ttest-merror:0.307830+0.010930\n",
      "[208]\ttrain-merror:0.264366+0.003321\ttest-merror:0.308054+0.011122\n",
      "[209]\ttrain-merror:0.264338+0.003347\ttest-merror:0.308017+0.011074\n",
      "[210]\ttrain-merror:0.264123+0.003365\ttest-merror:0.308092+0.011139\n",
      "[211]\ttrain-merror:0.263852+0.003223\ttest-merror:0.307718+0.011267\n",
      "[212]\ttrain-merror:0.263712+0.003401\ttest-merror:0.307905+0.011162\n",
      "[213]\ttrain-merror:0.263328+0.003278\ttest-merror:0.308092+0.011060\n",
      "[214]\ttrain-merror:0.263085+0.003317\ttest-merror:0.307830+0.011157\n",
      "[215]\ttrain-merror:0.262926+0.003255\ttest-merror:0.307868+0.011152\n",
      "[216]\ttrain-merror:0.262645+0.003201\ttest-merror:0.307755+0.011027\n",
      "[217]\ttrain-merror:0.262430+0.003073\ttest-merror:0.307793+0.010967\n",
      "[218]\ttrain-merror:0.262159+0.003145\ttest-merror:0.307605+0.011095\n",
      "[219]\ttrain-merror:0.262084+0.003149\ttest-merror:0.307568+0.011138\n",
      "[220]\ttrain-merror:0.261823+0.003336\ttest-merror:0.307306+0.011368\n",
      "[221]\ttrain-merror:0.261476+0.003455\ttest-merror:0.307232+0.011060\n",
      "[222]\ttrain-merror:0.261345+0.003325\ttest-merror:0.307456+0.010944\n",
      "[223]\ttrain-merror:0.261233+0.003429\ttest-merror:0.307419+0.011337\n",
      "[224]\ttrain-merror:0.260971+0.003456\ttest-merror:0.307194+0.011166\n",
      "[225]\ttrain-merror:0.260653+0.003624\ttest-merror:0.307493+0.011108\n",
      "[226]\ttrain-merror:0.260335+0.003504\ttest-merror:0.307456+0.011241\n",
      "[227]\ttrain-merror:0.260045+0.003471\ttest-merror:0.307606+0.011195\n",
      "[228]\ttrain-merror:0.259821+0.003461\ttest-merror:0.307493+0.011183\n",
      "[229]\ttrain-merror:0.259540+0.003373\ttest-merror:0.307493+0.011009\n",
      "[230]\ttrain-merror:0.259344+0.003286\ttest-merror:0.307568+0.011105\n",
      "[231]\ttrain-merror:0.259278+0.003375\ttest-merror:0.307606+0.011157\n",
      "[232]\ttrain-merror:0.259232+0.003378\ttest-merror:0.307493+0.011100\n",
      "[233]\ttrain-merror:0.259185+0.003320\ttest-merror:0.307456+0.011218\n",
      "[234]\ttrain-merror:0.258904+0.003296\ttest-merror:0.307344+0.011265\n",
      "[235]\ttrain-merror:0.258567+0.003374\ttest-merror:0.307493+0.011208\n",
      "[236]\ttrain-merror:0.258483+0.003485\ttest-merror:0.307680+0.011064\n",
      "[237]\ttrain-merror:0.258100+0.003461\ttest-merror:0.307793+0.011054\n",
      "[238]\ttrain-merror:0.257950+0.003514\ttest-merror:0.307793+0.010779\n",
      "[239]\ttrain-merror:0.257791+0.003547\ttest-merror:0.307680+0.010935\n",
      "[240]\ttrain-merror:0.257604+0.003637\ttest-merror:0.307493+0.011101\n",
      "[241]\ttrain-merror:0.257417+0.003609\ttest-merror:0.307381+0.011108\n",
      "[242]\ttrain-merror:0.257221+0.003519\ttest-merror:0.307531+0.011045\n",
      "[243]\ttrain-merror:0.257108+0.003615\ttest-merror:0.307643+0.011056\n",
      "[244]\ttrain-merror:0.256931+0.003670\ttest-merror:0.307718+0.011013\n",
      "[245]\ttrain-merror:0.256622+0.003666\ttest-merror:0.307755+0.010892\n",
      "[246]\ttrain-merror:0.256351+0.003600\ttest-merror:0.307718+0.010965\n",
      "[247]\ttrain-merror:0.256351+0.003594\ttest-merror:0.307755+0.010954\n",
      "[248]\ttrain-merror:0.256117+0.003746\ttest-merror:0.307793+0.011002\n",
      "[249]\ttrain-merror:0.255921+0.003719\ttest-merror:0.308092+0.011065\n",
      "[250]\ttrain-merror:0.255715+0.003652\ttest-merror:0.307943+0.011228\n",
      "[251]\ttrain-merror:0.255472+0.003547\ttest-merror:0.307942+0.011331\n",
      "[252]\ttrain-merror:0.255182+0.003519\ttest-merror:0.307718+0.011192\n",
      "[253]\ttrain-merror:0.254966+0.003509\ttest-merror:0.307680+0.011302\n",
      "[254]\ttrain-merror:0.254686+0.003337\ttest-merror:0.307718+0.011233\n",
      "[255]\ttrain-merror:0.254546+0.003338\ttest-merror:0.307531+0.011410\n",
      "[256]\ttrain-merror:0.254340+0.003418\ttest-merror:0.307568+0.011459\n",
      "[257]\ttrain-merror:0.254125+0.003384\ttest-merror:0.307531+0.011283\n",
      "[258]\ttrain-merror:0.253956+0.003312\ttest-merror:0.307456+0.011528\n",
      "[259]\ttrain-merror:0.253751+0.003238\ttest-merror:0.307381+0.011562\n",
      "[260]\ttrain-merror:0.253404+0.003320\ttest-merror:0.307232+0.011521\n",
      "[261]\ttrain-merror:0.253049+0.003212\ttest-merror:0.307306+0.011479\n",
      "[262]\ttrain-merror:0.252928+0.003252\ttest-merror:0.307119+0.011431\n",
      "[263]\ttrain-merror:0.252581+0.003126\ttest-merror:0.307082+0.011360\n",
      "[264]\ttrain-merror:0.252469+0.003145\ttest-merror:0.306970+0.011348\n",
      "[265]\ttrain-merror:0.252291+0.003213\ttest-merror:0.307007+0.011567\n",
      "[266]\ttrain-merror:0.251955+0.003094\ttest-merror:0.306970+0.011568\n",
      "[267]\ttrain-merror:0.251815+0.003051\ttest-merror:0.307045+0.011702\n",
      "[268]\ttrain-merror:0.251384+0.002842\ttest-merror:0.307045+0.011963\n",
      "[269]\ttrain-merror:0.251235+0.002759\ttest-merror:0.306932+0.011888\n",
      "[270]\ttrain-merror:0.251066+0.002898\ttest-merror:0.306783+0.011783\n",
      "[271]\ttrain-merror:0.250917+0.003000\ttest-merror:0.306446+0.011586\n",
      "[272]\ttrain-merror:0.250683+0.002874\ttest-merror:0.306334+0.011908\n",
      "[273]\ttrain-merror:0.250458+0.002813\ttest-merror:0.306633+0.011896\n",
      "[274]\ttrain-merror:0.250356+0.002815\ttest-merror:0.306708+0.011804\n",
      "[275]\ttrain-merror:0.250150+0.002801\ttest-merror:0.306633+0.011827\n",
      "[276]\ttrain-merror:0.250028+0.002718\ttest-merror:0.306745+0.011904\n",
      "[277]\ttrain-merror:0.249878+0.002760\ttest-merror:0.306596+0.011465\n",
      "[278]\ttrain-merror:0.249682+0.002815\ttest-merror:0.306932+0.011433\n",
      "[279]\ttrain-merror:0.249355+0.003013\ttest-merror:0.306857+0.011536\n",
      "[280]\ttrain-merror:0.249186+0.003163\ttest-merror:0.306895+0.011602\n",
      "[281]\ttrain-merror:0.248971+0.003022\ttest-merror:0.306932+0.011746\n",
      "[282]\ttrain-merror:0.248803+0.003135\ttest-merror:0.306670+0.011634\n",
      "[283]\ttrain-merror:0.248569+0.003205\ttest-merror:0.306670+0.011670\n",
      "[284]\ttrain-merror:0.248279+0.003109\ttest-merror:0.306521+0.011423\n",
      "[285]\ttrain-merror:0.248111+0.003092\ttest-merror:0.306558+0.011311\n",
      "[286]\ttrain-merror:0.247858+0.003041\ttest-merror:0.306857+0.011316\n",
      "[287]\ttrain-merror:0.247699+0.002985\ttest-merror:0.306671+0.010916\n",
      "[288]\ttrain-merror:0.247512+0.002920\ttest-merror:0.306596+0.011099\n",
      "[289]\ttrain-merror:0.247213+0.002923\ttest-merror:0.306595+0.011175\n",
      "[290]\ttrain-merror:0.246979+0.002827\ttest-merror:0.306596+0.011292\n",
      "[291]\ttrain-merror:0.246857+0.002802\ttest-merror:0.306633+0.011188\n",
      "[292]\ttrain-merror:0.246567+0.002851\ttest-merror:0.306446+0.011168\n",
      "[293]\ttrain-merror:0.246380+0.002811\ttest-merror:0.306259+0.011243\n",
      "[294]\ttrain-merror:0.246165+0.002765\ttest-merror:0.306446+0.011349\n",
      "[295]\ttrain-merror:0.246034+0.002725\ttest-merror:0.306371+0.011383\n",
      "[296]\ttrain-merror:0.245810+0.002753\ttest-merror:0.306371+0.011252\n",
      "[297]\ttrain-merror:0.245670+0.002793\ttest-merror:0.306446+0.011419\n",
      "[298]\ttrain-merror:0.245445+0.002732\ttest-merror:0.306334+0.011501\n",
      "[299]\ttrain-merror:0.245361+0.002861\ttest-merror:0.306296+0.011477\n",
      "[300]\ttrain-merror:0.245193+0.002902\ttest-merror:0.306371+0.011359\n",
      "[301]\ttrain-merror:0.245108+0.002874\ttest-merror:0.306371+0.011359\n",
      "[302]\ttrain-merror:0.244856+0.002905\ttest-merror:0.306034+0.011346\n",
      "[303]\ttrain-merror:0.244697+0.003017\ttest-merror:0.305922+0.011357\n",
      "[304]\ttrain-merror:0.244416+0.003076\ttest-merror:0.306221+0.011240\n",
      "[305]\ttrain-merror:0.244183+0.003112\ttest-merror:0.306109+0.011422\n",
      "[306]\ttrain-merror:0.244051+0.003034\ttest-merror:0.306034+0.011663\n",
      "[307]\ttrain-merror:0.243799+0.003033\ttest-merror:0.305772+0.011758\n",
      "[308]\ttrain-merror:0.243584+0.002965\ttest-merror:0.305810+0.011917\n",
      "[309]\ttrain-merror:0.243415+0.002955\ttest-merror:0.305773+0.011692\n",
      "[310]\ttrain-merror:0.243247+0.002878\ttest-merror:0.305773+0.011816\n",
      "[311]\ttrain-merror:0.243088+0.002828\ttest-merror:0.305773+0.011816\n",
      "[312]\ttrain-merror:0.242939+0.002963\ttest-merror:0.305885+0.011690\n",
      "[313]\ttrain-merror:0.242639+0.002989\ttest-merror:0.305847+0.011711\n",
      "[314]\ttrain-merror:0.242452+0.002802\ttest-merror:0.305922+0.011638\n",
      "[315]\ttrain-merror:0.242218+0.002702\ttest-merror:0.305997+0.011726\n",
      "[316]\ttrain-merror:0.241966+0.002784\ttest-merror:0.306034+0.011876\n",
      "[317]\ttrain-merror:0.241816+0.002720\ttest-merror:0.305847+0.011767\n",
      "[318]\ttrain-merror:0.241517+0.002752\ttest-merror:0.306034+0.011871\n",
      "[319]\ttrain-merror:0.241367+0.002767\ttest-merror:0.306034+0.011636\n",
      "[320]\ttrain-merror:0.241161+0.002816\ttest-merror:0.305810+0.011345\n",
      "[321]\ttrain-merror:0.241012+0.002930\ttest-merror:0.305847+0.011261\n",
      "[322]\ttrain-merror:0.240899+0.003016\ttest-merror:0.305847+0.011323\n",
      "[323]\ttrain-merror:0.240787+0.002988\ttest-merror:0.305885+0.011393\n",
      "[324]\ttrain-merror:0.240525+0.002915\ttest-merror:0.305922+0.011313\n",
      "[325]\ttrain-merror:0.240282+0.002838\ttest-merror:0.305847+0.011457\n",
      "[326]\ttrain-merror:0.240020+0.002711\ttest-merror:0.305922+0.011183\n",
      "[327]\ttrain-merror:0.240001+0.002750\ttest-merror:0.306109+0.011392\n",
      "[328]\ttrain-merror:0.239777+0.002725\ttest-merror:0.306109+0.011474\n",
      "[329]\ttrain-merror:0.239553+0.002753\ttest-merror:0.306035+0.011689\n",
      "[330]\ttrain-merror:0.239478+0.002796\ttest-merror:0.305997+0.011478\n",
      "[331]\ttrain-merror:0.239347+0.002846\ttest-merror:0.305960+0.011304\n",
      "[332]\ttrain-merror:0.239169+0.002905\ttest-merror:0.305885+0.011136\n",
      "[333]\ttrain-merror:0.238907+0.002914\ttest-merror:0.305810+0.011264\n",
      "[334]\ttrain-merror:0.238627+0.002952\ttest-merror:0.305735+0.011285\n",
      "[335]\ttrain-merror:0.238374+0.002869\ttest-merror:0.305361+0.010905\n",
      "[336]\ttrain-merror:0.238150+0.002889\ttest-merror:0.305436+0.011296\n",
      "[337]\ttrain-merror:0.238112+0.002867\ttest-merror:0.305286+0.011286\n",
      "[338]\ttrain-merror:0.237981+0.002810\ttest-merror:0.305436+0.011355\n",
      "[339]\ttrain-merror:0.237803+0.002672\ttest-merror:0.305137+0.011415\n",
      "[340]\ttrain-merror:0.237663+0.002659\ttest-merror:0.305062+0.011361\n",
      "[341]\ttrain-merror:0.237532+0.002672\ttest-merror:0.305174+0.011308\n",
      "[342]\ttrain-merror:0.237336+0.002640\ttest-merror:0.305137+0.011605\n",
      "[343]\ttrain-merror:0.237018+0.002587\ttest-merror:0.305024+0.012029\n",
      "[344]\ttrain-merror:0.236896+0.002466\ttest-merror:0.304912+0.012150\n",
      "[345]\ttrain-merror:0.236662+0.002466\ttest-merror:0.304875+0.012189\n",
      "[346]\ttrain-merror:0.236419+0.002554\ttest-merror:0.304987+0.012068\n",
      "[347]\ttrain-merror:0.236204+0.002505\ttest-merror:0.304987+0.011918\n",
      "[348]\ttrain-merror:0.235952+0.002407\ttest-merror:0.304875+0.011964\n",
      "[349]\ttrain-merror:0.235746+0.002590\ttest-merror:0.304688+0.011648\n",
      "[350]\ttrain-merror:0.235484+0.002620\ttest-merror:0.304613+0.011512\n",
      "[351]\ttrain-merror:0.235297+0.002655\ttest-merror:0.304576+0.011557\n",
      "[352]\ttrain-merror:0.235082+0.002543\ttest-merror:0.304463+0.011548\n",
      "[353]\ttrain-merror:0.234960+0.002532\ttest-merror:0.304688+0.011495\n",
      "[354]\ttrain-merror:0.234792+0.002542\ttest-merror:0.304538+0.011495\n",
      "[355]\ttrain-merror:0.234390+0.002466\ttest-merror:0.304463+0.011767\n",
      "[356]\ttrain-merror:0.234184+0.002601\ttest-merror:0.304388+0.011608\n",
      "[357]\ttrain-merror:0.234118+0.002722\ttest-merror:0.304351+0.011607\n",
      "[358]\ttrain-merror:0.233903+0.002617\ttest-merror:0.304426+0.011708\n",
      "[359]\ttrain-merror:0.233754+0.002721\ttest-merror:0.304463+0.011729\n",
      "[360]\ttrain-merror:0.233389+0.002824\ttest-merror:0.304501+0.011799\n",
      "[361]\ttrain-merror:0.233183+0.002747\ttest-merror:0.304351+0.011648\n",
      "[362]\ttrain-merror:0.233024+0.002763\ttest-merror:0.304613+0.011550\n",
      "[363]\ttrain-merror:0.232930+0.002776\ttest-merror:0.304388+0.011387\n",
      "[364]\ttrain-merror:0.232828+0.002804\ttest-merror:0.304351+0.011445\n",
      "[365]\ttrain-merror:0.232650+0.002794\ttest-merror:0.304351+0.011211\n",
      "[366]\ttrain-merror:0.232444+0.002753\ttest-merror:0.304276+0.011308\n",
      "[367]\ttrain-merror:0.232210+0.002673\ttest-merror:0.304239+0.011257\n",
      "[368]\ttrain-merror:0.231986+0.002543\ttest-merror:0.304164+0.011119\n",
      "[369]\ttrain-merror:0.231705+0.002418\ttest-merror:0.304276+0.011042\n",
      "[370]\ttrain-merror:0.231415+0.002326\ttest-merror:0.304463+0.011085\n",
      "[371]\ttrain-merror:0.231219+0.002343\ttest-merror:0.304501+0.010826\n",
      "[372]\ttrain-merror:0.231041+0.002313\ttest-merror:0.304538+0.010788\n",
      "[373]\ttrain-merror:0.230835+0.002453\ttest-merror:0.304351+0.010601\n",
      "[374]\ttrain-merror:0.230732+0.002493\ttest-merror:0.304463+0.010712\n",
      "[375]\ttrain-merror:0.230658+0.002557\ttest-merror:0.304351+0.011002\n",
      "[376]\ttrain-merror:0.230461+0.002515\ttest-merror:0.304501+0.011007\n",
      "[377]\ttrain-merror:0.230330+0.002430\ttest-merror:0.304575+0.011032\n",
      "[378]\ttrain-merror:0.230050+0.002411\ttest-merror:0.304613+0.011135\n",
      "[379]\ttrain-merror:0.229816+0.002368\ttest-merror:0.304501+0.011048\n",
      "[380]\ttrain-merror:0.229694+0.002276\ttest-merror:0.304388+0.010919\n",
      "[381]\ttrain-merror:0.229517+0.002292\ttest-merror:0.304426+0.011067\n",
      "[382]\ttrain-merror:0.229311+0.002466\ttest-merror:0.304389+0.011107\n",
      "[383]\ttrain-merror:0.229227+0.002468\ttest-merror:0.304426+0.011114\n",
      "[384]\ttrain-merror:0.229068+0.002412\ttest-merror:0.304426+0.011048\n",
      "[385]\ttrain-merror:0.228815+0.002262\ttest-merror:0.304501+0.011003\n",
      "[386]\ttrain-merror:0.228675+0.002309\ttest-merror:0.304501+0.010959\n",
      "[387]\ttrain-merror:0.228525+0.002332\ttest-merror:0.304463+0.011122\n",
      "[388]\ttrain-merror:0.228366+0.002354\ttest-merror:0.304613+0.011124\n",
      "[389]\ttrain-merror:0.228142+0.002351\ttest-merror:0.304650+0.010984\n",
      "[390]\ttrain-merror:0.227768+0.002333\ttest-merror:0.304725+0.010906\n",
      "[391]\ttrain-merror:0.227693+0.002239\ttest-merror:0.304875+0.010872\n",
      "[392]\ttrain-merror:0.227440+0.002243\ttest-merror:0.304800+0.010927\n",
      "[393]\ttrain-merror:0.227169+0.002136\ttest-merror:0.304688+0.010959\n",
      "[394]\ttrain-merror:0.227066+0.002168\ttest-merror:0.304912+0.011040\n",
      "[395]\ttrain-merror:0.226767+0.002129\ttest-merror:0.304800+0.011001\n",
      "[396]\ttrain-merror:0.226617+0.002189\ttest-merror:0.304725+0.011039\n",
      "[397]\ttrain-merror:0.226411+0.002168\ttest-merror:0.304763+0.011115\n",
      "[398]\ttrain-merror:0.226290+0.002123\ttest-merror:0.304875+0.010869\n",
      "[399]\ttrain-merror:0.226121+0.002024\ttest-merror:0.304763+0.011078\n",
      "[400]\ttrain-merror:0.225850+0.001942\ttest-merror:0.304613+0.011247\n",
      "[401]\ttrain-merror:0.225803+0.002012\ttest-merror:0.304650+0.011091\n",
      "[402]\ttrain-merror:0.225607+0.001970\ttest-merror:0.304688+0.011221\n",
      "[403]\ttrain-merror:0.225429+0.002031\ttest-merror:0.304501+0.011268\n",
      "[404]\ttrain-merror:0.225261+0.002040\ttest-merror:0.304388+0.011323\n",
      "[405]\ttrain-merror:0.224980+0.002035\ttest-merror:0.304239+0.011172\n",
      "[406]\ttrain-merror:0.224700+0.002167\ttest-merror:0.304351+0.011073\n",
      "[407]\ttrain-merror:0.224400+0.002186\ttest-merror:0.304276+0.011127\n",
      "[408]\ttrain-merror:0.224204+0.002215\ttest-merror:0.304463+0.010896\n",
      "[409]\ttrain-merror:0.224101+0.002126\ttest-merror:0.304538+0.010784\n",
      "[410]\ttrain-merror:0.223867+0.002108\ttest-merror:0.304239+0.010854\n",
      "[411]\ttrain-merror:0.223680+0.002082\ttest-merror:0.304388+0.010894\n",
      "[412]\ttrain-merror:0.223540+0.002054\ttest-merror:0.304426+0.010968\n",
      "[413]\ttrain-merror:0.223362+0.002094\ttest-merror:0.304463+0.010872\n",
      "[414]\ttrain-merror:0.223269+0.002145\ttest-merror:0.304388+0.010894\n",
      "[415]\ttrain-merror:0.223063+0.002068\ttest-merror:0.304463+0.010731\n",
      "[416]\ttrain-merror:0.222932+0.002077\ttest-merror:0.304351+0.010720\n",
      "[417]\ttrain-merror:0.222745+0.002069\ttest-merror:0.304351+0.010892\n",
      "[418]\ttrain-merror:0.222492+0.001981\ttest-merror:0.304127+0.010675\n",
      "[419]\ttrain-merror:0.222240+0.002003\ttest-merror:0.303940+0.010640\n",
      "[420]\ttrain-merror:0.222184+0.001994\ttest-merror:0.303902+0.010742\n",
      "[421]\ttrain-merror:0.221940+0.001933\ttest-merror:0.304239+0.010903\n",
      "[422]\ttrain-merror:0.221922+0.002092\ttest-merror:0.304052+0.011000\n",
      "[423]\ttrain-merror:0.221669+0.002036\ttest-merror:0.304052+0.011062\n",
      "[424]\ttrain-merror:0.221491+0.002049\ttest-merror:0.303902+0.011073\n",
      "[425]\ttrain-merror:0.221258+0.002014\ttest-merror:0.304014+0.011014\n",
      "[426]\ttrain-merror:0.221033+0.001973\ttest-merror:0.304127+0.011124\n",
      "[427]\ttrain-merror:0.220912+0.001990\ttest-merror:0.304127+0.011229\n",
      "[428]\ttrain-merror:0.220874+0.001958\ttest-merror:0.304127+0.011125\n",
      "[429]\ttrain-merror:0.220706+0.002059\ttest-merror:0.303940+0.010975\n",
      "[430]\ttrain-merror:0.220631+0.001985\ttest-merror:0.304052+0.010954\n",
      "[431]\ttrain-merror:0.220416+0.001939\ttest-merror:0.304127+0.010981\n",
      "[432]\ttrain-merror:0.220229+0.001900\ttest-merror:0.304389+0.011100\n",
      "[433]\ttrain-merror:0.219958+0.001844\ttest-merror:0.304202+0.011349\n",
      "[434]\ttrain-merror:0.219864+0.001748\ttest-merror:0.304239+0.011169\n",
      "[435]\ttrain-merror:0.219733+0.001795\ttest-merror:0.304576+0.011029\n",
      "[436]\ttrain-merror:0.219397+0.001863\ttest-merror:0.304538+0.010994\n",
      "[437]\ttrain-merror:0.219256+0.001859\ttest-merror:0.304800+0.010983\n",
      "[438]\ttrain-merror:0.219013+0.001839\ttest-merror:0.304688+0.010850\n",
      "[439]\ttrain-merror:0.218798+0.001814\ttest-merror:0.304576+0.010851\n",
      "[440]\ttrain-merror:0.218527+0.001635\ttest-merror:0.304426+0.010862\n",
      "[441]\ttrain-merror:0.218330+0.001578\ttest-merror:0.304201+0.010678\n",
      "[442]\ttrain-merror:0.218087+0.001596\ttest-merror:0.304239+0.010753\n",
      "[443]\ttrain-merror:0.217956+0.001519\ttest-merror:0.304201+0.010443\n",
      "[444]\ttrain-merror:0.217881+0.001567\ttest-merror:0.304127+0.010670\n",
      "[445]\ttrain-merror:0.217638+0.001648\ttest-merror:0.303939+0.010870\n",
      "[446]\ttrain-merror:0.217535+0.001690\ttest-merror:0.304127+0.010904\n",
      "[447]\ttrain-merror:0.217311+0.001675\ttest-merror:0.304089+0.010991\n",
      "[448]\ttrain-merror:0.217133+0.001721\ttest-merror:0.304276+0.010848\n",
      "[449]\ttrain-merror:0.216899+0.001772\ttest-merror:0.304389+0.011185\n",
      "[450]\ttrain-merror:0.216778+0.001786\ttest-merror:0.304388+0.011033\n",
      "[451]\ttrain-merror:0.216497+0.002058\ttest-merror:0.304388+0.011250\n",
      "[452]\ttrain-merror:0.216404+0.002026\ttest-merror:0.304501+0.011184\n",
      "[453]\ttrain-merror:0.216132+0.001969\ttest-merror:0.304688+0.011255\n",
      "[454]\ttrain-merror:0.215973+0.002067\ttest-merror:0.304613+0.011517\n",
      "[455]\ttrain-merror:0.215833+0.001995\ttest-merror:0.304576+0.011420\n",
      "[456]\ttrain-merror:0.215665+0.002107\ttest-merror:0.304650+0.011417\n",
      "[457]\ttrain-merror:0.215515+0.002058\ttest-merror:0.304688+0.011408\n",
      "[458]\ttrain-merror:0.215375+0.002088\ttest-merror:0.304762+0.011473\n",
      "[459]\ttrain-merror:0.215197+0.002090\ttest-merror:0.304613+0.011418\n",
      "[460]\ttrain-merror:0.214944+0.002235\ttest-merror:0.304276+0.011067\n",
      "[461]\ttrain-merror:0.214682+0.002106\ttest-merror:0.304426+0.011133\n",
      "[462]\ttrain-merror:0.214467+0.002095\ttest-merror:0.304463+0.011163\n",
      "[463]\ttrain-merror:0.214421+0.002012\ttest-merror:0.304463+0.011123\n",
      "[464]\ttrain-merror:0.214234+0.002113\ttest-merror:0.304463+0.011276\n",
      "[465]\ttrain-merror:0.214065+0.001992\ttest-merror:0.304538+0.011254\n",
      "[466]\ttrain-merror:0.214000+0.002125\ttest-merror:0.304613+0.011199\n",
      "[467]\ttrain-merror:0.213878+0.002008\ttest-merror:0.304576+0.011343\n",
      "[468]\ttrain-merror:0.213756+0.002009\ttest-merror:0.304351+0.011289\n",
      "[469]\ttrain-merror:0.213654+0.001973\ttest-merror:0.304426+0.011376\n",
      "[470]\ttrain-merror:0.213485+0.001920\ttest-merror:0.304576+0.011598\n",
      "[471]\ttrain-merror:0.213354+0.001907\ttest-merror:0.304725+0.011569\n",
      "[472]\ttrain-merror:0.213121+0.001794\ttest-merror:0.304763+0.011598\n",
      "[473]\ttrain-merror:0.212989+0.001858\ttest-merror:0.304613+0.011558\n",
      "[474]\ttrain-merror:0.212831+0.001911\ttest-merror:0.304576+0.011423\n",
      "[475]\ttrain-merror:0.212484+0.001810\ttest-merror:0.304613+0.011415\n",
      "[476]\ttrain-merror:0.212269+0.001830\ttest-merror:0.304426+0.011307\n",
      "[477]\ttrain-merror:0.212092+0.001919\ttest-merror:0.304276+0.011317\n",
      "[478]\ttrain-merror:0.212045+0.001975\ttest-merror:0.304463+0.011316\n",
      "[479]\ttrain-merror:0.211980+0.002072\ttest-merror:0.304501+0.011184\n",
      "[480]\ttrain-merror:0.211867+0.002076\ttest-merror:0.304501+0.011451\n",
      "[481]\ttrain-merror:0.211745+0.001968\ttest-merror:0.304800+0.011183\n",
      "[482]\ttrain-merror:0.211484+0.002107\ttest-merror:0.304763+0.011377\n",
      "[483]\ttrain-merror:0.211269+0.002059\ttest-merror:0.304688+0.011525\n",
      "[484]\ttrain-merror:0.211082+0.002057\ttest-merror:0.304725+0.011631\n",
      "[485]\ttrain-merror:0.210932+0.002086\ttest-merror:0.304725+0.011589\n",
      "[486]\ttrain-merror:0.210801+0.002088\ttest-merror:0.304875+0.011555\n",
      "[487]\ttrain-merror:0.210586+0.002078\ttest-merror:0.304950+0.011521\n",
      "[488]\ttrain-merror:0.210371+0.002199\ttest-merror:0.304987+0.011860\n",
      "[489]\ttrain-merror:0.210296+0.002127\ttest-merror:0.304950+0.011619\n",
      "[490]\ttrain-merror:0.210259+0.002250\ttest-merror:0.305024+0.011641\n",
      "[491]\ttrain-merror:0.210006+0.002303\ttest-merror:0.304837+0.011705\n",
      "[492]\ttrain-merror:0.209791+0.002358\ttest-merror:0.304912+0.011784\n",
      "[493]\ttrain-merror:0.209557+0.002369\ttest-merror:0.304912+0.011818\n",
      "[494]\ttrain-merror:0.209464+0.002357\ttest-merror:0.304837+0.011812\n",
      "[495]\ttrain-merror:0.209276+0.002394\ttest-merror:0.304762+0.011779\n",
      "[496]\ttrain-merror:0.209043+0.002428\ttest-merror:0.304688+0.011831\n",
      "[497]\ttrain-merror:0.208874+0.002397\ttest-merror:0.304688+0.011740\n",
      "[498]\ttrain-merror:0.208678+0.002430\ttest-merror:0.304800+0.011857\n",
      "[499]\ttrain-merror:0.208538+0.002393\ttest-merror:0.304688+0.011681\n"
     ]
    }
   ],
   "source": [
    "xgb.cv(data = design_matrix, label = y, max_depth = 6,\n",
    "                nrounds = 500,\n",
    "                eta = 0.05,\n",
    "                objective = \"multi:softprob\", \n",
    "                num_class = 5, nfold = 5) -> cv "
   ]
  },
  {
   "cell_type": "markdown",
   "metadata": {},
   "source": [
    " "
   ]
  },
  {
   "cell_type": "code",
   "execution_count": null,
   "metadata": {
    "collapsed": true
   },
   "outputs": [],
   "source": []
  },
  {
   "cell_type": "code",
   "execution_count": 37,
   "metadata": {
    "collapsed": false
   },
   "outputs": [
    {
     "data": {
      "text/html": [
       "421"
      ],
      "text/latex": [
       "421"
      ],
      "text/markdown": [
       "421"
      ],
      "text/plain": [
       "[1] 421"
      ]
     },
     "execution_count": 37,
     "metadata": {},
     "output_type": "execute_result"
    },
    {
     "data": {
      "text/html": [
       "0.303902"
      ],
      "text/latex": [
       "0.303902"
      ],
      "text/markdown": [
       "0.303902"
      ],
      "text/plain": [
       "[1] 0.303902"
      ]
     },
     "execution_count": 37,
     "metadata": {},
     "output_type": "execute_result"
    },
    {
     "ename": "ERROR",
     "evalue": "Error in file(con, \"rb\"): cannot open the connection\n",
     "output_type": "error",
     "traceback": [
      "Error in file(con, \"rb\"): cannot open the connection\n"
     ]
    },
    {
     "data": {
      "image/png": "[encoded data removed]",
      "text/plain": [
       "plot without title"
      ]
     },
     "metadata": {
      "image/svg+xml": {
       "isolated": true
      }
     },
     "output_type": "display_data"
    }
   ],
   "source": [
    "which.min(cv$test.merror.mean)\n",
    "\n",
    "min(cv$test.merror.mean)\n",
    "    \n",
    "ggplot(cv, aes(x = 1:500)) +\n",
    "    geom_line(aes(y = train.merror.mean), alpha = 0.5) +\n",
    "    geom_line(aes(y = test.merror.mean), color = \"red\") +\n",
    "    geom_point(aes(x = which.min(cv$test.merror.mean),\n",
    "                   y = min(cv$test.merror.mean)), size = 5)+\n",
    "    ylim(c(0.2, 0.4))"
   ]
  },
  {
   "cell_type": "code",
   "execution_count": null,
   "metadata": {
    "collapsed": true
   },
   "outputs": [],
   "source": [
    "2+2"
   ]
  },
  {
   "cell_type": "code",
   "execution_count": null,
   "metadata": {
    "collapsed": true
   },
   "outputs": [],
   "source": []
  }
 ],
 "metadata": {
  "kernelspec": {
   "display_name": "R",
   "language": "R",
   "name": "ir"
  },
  "language_info": {
   "codemirror_mode": "r",
   "file_extension": ".r",
   "mimetype": "text/x-r-source",
   "name": "R",
   "pygments_lexer": "r",
   "version": "3.2.4"
  }
 },
 "nbformat": 4,
 "nbformat_minor": 0
}
